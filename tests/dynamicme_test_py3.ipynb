{
 "cells": [
  {
   "cell_type": "markdown",
   "metadata": {},
   "source": [
    "# Testing dynamicME on the latest cobrame model"
   ]
  },
  {
   "cell_type": "code",
   "execution_count": null,
   "metadata": {},
   "outputs": [],
   "source": [
    "CONSTRAIN_O2 = True\n",
    "TUNE_GLPK = True     # GLPK for glycerol\n",
    "TUNE_RESPIRATION = True"
   ]
  },
  {
   "cell_type": "code",
   "execution_count": null,
   "metadata": {},
   "outputs": [],
   "source": [
    "from dynamicme.dynamic import DynamicME"
   ]
  },
  {
   "cell_type": "markdown",
   "metadata": {},
   "source": [
    "## 1. Build the ME model anew\n",
    "### Only need to run this once or if a new version of the ME model is released"
   ]
  },
  {
   "cell_type": "code",
   "execution_count": null,
   "metadata": {},
   "outputs": [],
   "source": [
    "# %run /source/ecolime/ecolime/build_me_model.py"
   ]
  },
  {
   "cell_type": "markdown",
   "metadata": {},
   "source": [
    "## 2. Load the built ME model"
   ]
  },
  {
   "cell_type": "code",
   "execution_count": null,
   "metadata": {},
   "outputs": [],
   "source": [
    "from cobrame.io.json import load_reduced_json_me_model, load_json_me_model\n",
    "import pickle"
   ]
  },
  {
   "cell_type": "code",
   "execution_count": null,
   "metadata": {},
   "outputs": [],
   "source": [
    "with open('/source/ecolime/ecolime/me_models/iJL1678b.pickle','rb') as f:\n",
    "    me = pickle.load(f)"
   ]
  },
  {
   "cell_type": "code",
   "execution_count": null,
   "metadata": {},
   "outputs": [],
   "source": [
    "rxn = me.reactions.get_by_id('GLYCtpp_REV_SPONT')\n",
    "rxn.lower_bound = 0\n",
    "rxn.upper_bound = 0"
   ]
  },
  {
   "cell_type": "markdown",
   "metadata": {},
   "source": [
    "# 3. Set up the dynamic simulation"
   ]
  },
  {
   "cell_type": "markdown",
   "metadata": {},
   "source": [
    "## Here, we will simulate the complex medium originally investigated by [Beg et al., 2007](http://www.pnas.org/content/104/31/12663)"
   ]
  },
  {
   "cell_type": "markdown",
   "metadata": {},
   "source": [
    "### Metabolites to track"
   ]
  },
  {
   "cell_type": "code",
   "execution_count": null,
   "metadata": {},
   "outputs": [],
   "source": [
    "tracked_mets = [\n",
    "    me.metabolites.ac_p,\n",
    "    me.metabolites.gal_p,\n",
    "    me.metabolites.glc__D_p,\n",
    "    me.metabolites.glyc_p,\n",
    "    me.metabolites.lac__L_p, \n",
    "    me.metabolites.malt_p\n",
    "    ]\n",
    "extra_rxns_tracked = [me.reactions.biomass_dilution, me.reactions.EX_o2_e]"
   ]
  },
  {
   "cell_type": "markdown",
   "metadata": {},
   "source": [
    "### Also track translation fluxes"
   ]
  },
  {
   "cell_type": "code",
   "execution_count": null,
   "metadata": {},
   "outputs": [],
   "source": [
    "rxns_trsl = me.reactions.query('translation_')\n",
    "print(len(rxns_trsl))\n",
    "extra_rxns_tracked = extra_rxns_tracked + rxns_trsl\n",
    "\n",
    "from cobrame.core.reaction import MetabolicReaction\n",
    "import pandas as pd\n",
    "\n",
    "rows_tracked = []\n",
    "\n",
    "for met_track in tracked_mets:\n",
    "    mid_c = met_track.id.replace('_p','_c')\n",
    "    mid_e = met_track.id.replace('_p','_e')\n",
    "    met_c = me.metabolites.get_by_id(mid_c)\n",
    "    met_e = me.metabolites.get_by_id(mid_e)\n",
    "    for rxn in met_track.reactions:\n",
    "        if isinstance(rxn, MetabolicReaction) and rxn.keff and met_c in rxn.metabolites or met_e in rxn.metabolites:\n",
    "            extra_rxns_tracked.append(rxn)\n",
    "            rows_tracked.append({'met':met_track.id, 'rxn':rxn.id})\n",
    "            #print met_track,'\\t', rxn.id, '\\t', rxn.keff          \n",
    "            \n",
    "df_tracked = pd.DataFrame(rows_tracked)"
   ]
  },
  {
   "cell_type": "code",
   "execution_count": null,
   "metadata": {},
   "outputs": [],
   "source": [
    "dyme = DynamicME(me)\n",
    "\n",
    "T = 10   # hours\n",
    "V = 1.   # L\n",
    "X0 = 0.00675 / V  # g/L\n",
    "c0_dict = {'glc__D_e': 0.4,\n",
    "           'lac__L_e': 0.4,\n",
    "           'malt_e': 0.4,\n",
    "           'gal_e': 0.4,\n",
    "           'glyc_e':0.4,\n",
    "           'ac_e': 0.0}\n",
    "### Convert from g/L to mmol\n",
    "for mid,c in c0_dict.items():\n",
    "    met = me.metabolites.get_by_id(mid)\n",
    "    c0_dict[met.id] = c / met.formula_weight * 1000\n",
    "\n",
    "### Set max uptake rate\n",
    "LB_EX = -10.\n",
    "LB_O2 = -20.\n",
    "\n",
    "lb_dict={}\n",
    "ub_dict={}\n",
    "\n",
    "for mid in c0_dict.keys():    \n",
    "    rxn = dyme.get_exchange_rxn(mid)    \n",
    "    if rxn.id == 'EX_o2_e':\n",
    "        lb = LB_O2\n",
    "    else:\n",
    "        lb = LB_EX\n",
    "    #rxn.lower_bound = lb\n",
    "    lb_dict[rxn.id] = lb\n",
    "\n",
    "#me.reactions.EX_o2_e.lower_bound = LB_O2\n",
    "lb_dict[me.reactions.EX_o2_e.id] = LB_O2\n",
    "\n",
    "print(c0_dict)\n",
    "print(lb_dict)\n",
    "print(ub_dict)\n",
    "\n",
    "sim_params = {\n",
    "    'T':T,\n",
    "    'X0':X0,\n",
    "    'c0_dict':c0_dict,\n",
    "    'lb_dict':lb_dict,\n",
    "    'ub_dict':ub_dict,\n",
    "    'extra_rxns_tracked':extra_rxns_tracked,\n",
    "    'ZERO_CONC':0.\n",
    "}"
   ]
  },
  {
   "cell_type": "markdown",
   "metadata": {},
   "source": [
    "# 4. Some manual keff tuning from literature (see Methods)"
   ]
  },
  {
   "cell_type": "code",
   "execution_count": null,
   "metadata": {},
   "outputs": [],
   "source": [
    "growth_rxn = me.reactions.biomass_dilution\n",
    "df_pert = df_tracked\n",
    "groups = df_pert['met'].unique()\n",
    "\n",
    "pert_rxns = [r for r in df_pert['rxn'].values]\n",
    "\n",
    "group_rxn_dict = {met:df_pert[ df_pert['met']==met]['rxn'].values.tolist() for met in groups}\n",
    "print(group_rxn_dict['malt_p'])\n",
    "print(group_rxn_dict['glyc_p'])"
   ]
  },
  {
   "cell_type": "code",
   "execution_count": null,
   "metadata": {},
   "outputs": [],
   "source": [
    "rows_perturb_manual = []"
   ]
  },
  {
   "cell_type": "markdown",
   "metadata": {},
   "source": [
    "### Glycerol\n",
    "\n",
    "### Glycerol kinase (GLPK) known to be rate-limiting (Applebee et al., 2011)"
   ]
  },
  {
   "cell_type": "code",
   "execution_count": null,
   "metadata": {},
   "outputs": [],
   "source": [
    "### From Applebee et al. (2011)\n",
    "vmax_glpk_ale = 86\n",
    "vmax_glpk_wt  = 18.1\n",
    "\n",
    "for rxn in me.process_data.GLYK.parent_reactions:\n",
    "    extra_rxns_tracked.append(rxn)\n",
    "    rows_perturb_manual.append({'met':'glyc_p', 'rxn':rxn.id})\n",
    "    if TUNE_GLPK:\n",
    "        keff1 = rxn.keff\n",
    "        keff2 = keff1 * vmax_glpk_wt / vmax_glpk_ale\n",
    "        print('Changing keff for %s from %g to %g'%(rxn.id, keff1, keff2))\n",
    "        rxn.keff = keff2\n",
    "        rxn.update()\n",
    "        print(rxn.id, ':\\t', rxn.reaction    )"
   ]
  },
  {
   "cell_type": "markdown",
   "metadata": {},
   "source": [
    "### Respiration\n",
    "Basan et al. (2015) Nat: proteome cost of energy biogenesis by respiration exceeds that by fermentation\n",
    "- TCA\n",
    "- Cytochromes\n",
    "- ATP synthase"
   ]
  },
  {
   "cell_type": "code",
   "execution_count": null,
   "metadata": {},
   "outputs": [],
   "source": [
    "### Isocitrate dehyrogenase keffs were way too high\n",
    "for rxn in me.process_data.ICDHyr.parent_reactions:\n",
    "    extra_rxns_tracked.append(rxn)\n",
    "    rows_perturb_manual.append({'met':'o2_e', 'rxn':rxn.id})\n",
    "    if TUNE_RESPIRATION:\n",
    "        keff1 = rxn.keff\n",
    "        keff2 = 11900./60   # BIONUMBERS http://bionumbers.hms.harvard.edu/bionumber.aspx?id=101152\n",
    "        # 106.4    ### BRENDA for 40oC\n",
    "        if keff2 < keff1:\n",
    "            print('Changing keff for %s from %g to %g'%(rxn.id, keff1, keff2))\n",
    "            rxn.keff = keff2\n",
    "            rxn.update()\n",
    "            print(rxn.id, ':\\t', rxn.reaction)\n",
    "\n",
    "### ATP Synthase: \n",
    "# F0F1: 270 +/- 40 s-1: http://www.ncbi.nlm.nih.gov/pubmed/9030757\n",
    "\n",
    "### Cytochromes\n",
    "# Zhuang (2011)\n",
    "# Cyd-II: low cost\n",
    "# Cyo: costly\n",
    "# Cyd-I: preferred in microaerobic\n",
    "# Cytochrome oxidase bo3 (ubiquinol-8: 4 protons)\n",
    "for rxn in me.process_data.CYTBO3_4pp.parent_reactions:\n",
    "    extra_rxns_tracked.append(rxn)\n",
    "    rows_perturb_manual.append({'met':'o2_e', 'rxn':rxn.id})\n",
    "    if TUNE_RESPIRATION:\n",
    "        keff1 = rxn.keff\n",
    "        keff2 = 300. # http://www.brenda-enzymes.org/enzyme.php?ecno=1.9.3.1\n",
    "        if keff2 < keff1:\n",
    "            print('Changing keff for %s from %g to %g'%(rxn.id, keff1, keff2))\n",
    "            rxn.keff = keff2\n",
    "            rxn.update()\n",
    "            print(rxn.id, ':\\t', rxn.reaction)\n",
    "            \n",
    "# Cytochrome oxidase bd (menaquinol-8: 2 protons)\n",
    "for rxn in me.process_data.CYTBD2pp.parent_reactions:\n",
    "    extra_rxns_tracked.append(rxn)\n",
    "    rows_perturb_manual.append({'met':'o2_e', 'rxn':rxn.id})\n",
    "    if TUNE_RESPIRATION:\n",
    "        keff1 = rxn.keff\n",
    "        keff2 = keff1 / 2.\n",
    "        if keff2 < keff1:\n",
    "            print('Changing keff for %s from %g to %g'%(rxn.id, keff1, keff2))\n",
    "            rxn.keff = keff2\n",
    "            rxn.update()\n",
    "            print(rxn.id, ':\\t', rxn.reaction)\n",
    "            \n",
    "# Cytochrome oxidase bd (ubiquinol-8: 2 protons)\n",
    "for rxn in me.process_data.CYTBDpp.parent_reactions:\n",
    "    extra_rxns_tracked.append(rxn)\n",
    "    rows_perturb_manual.append({'met':'o2_e', 'rxn':rxn.id})\n",
    "    if TUNE_RESPIRATION:\n",
    "        keff1 = rxn.keff\n",
    "        keff2 = keff1 / 2.\n",
    "        if keff2 < keff1:\n",
    "            print('Changing keff for %s from %g to %g'%(rxn.id, keff1, keff2))\n",
    "            rxn.keff = keff2\n",
    "            rxn.update()\n",
    "            print(rxn.id, ':\\t', rxn.reaction)"
   ]
  },
  {
   "cell_type": "code",
   "execution_count": null,
   "metadata": {},
   "outputs": [],
   "source": [
    "df_pert_manual = pd.DataFrame(rows_perturb_manual).drop_duplicates()\n",
    "print(df_pert_manual.shape)"
   ]
  },
  {
   "cell_type": "code",
   "execution_count": null,
   "metadata": {},
   "outputs": [],
   "source": [
    "# Append timestamp to filename\n",
    "import time\n",
    "timestr = '_'+time.strftime(\"%Y%m%d_%H%M\")\n",
    "print(timestr)\n",
    "\n",
    "# Append simulation conditions to filename\n",
    "simstr = ''\n",
    "if TUNE_GLPK: simstr = simstr + '_GLPK'\n",
    "if TUNE_RESPIRATION: simstr = simstr + '_RESP'\n",
    "\n",
    "print(simstr)"
   ]
  },
  {
   "cell_type": "markdown",
   "metadata": {},
   "source": [
    "# 5. Perform DynamicME simulation"
   ]
  },
  {
   "cell_type": "code",
   "execution_count": null,
   "metadata": {},
   "outputs": [],
   "source": [
    "dyme = DynamicME(me)"
   ]
  },
  {
   "cell_type": "code",
   "execution_count": null,
   "metadata": {
    "scrolled": true
   },
   "outputs": [],
   "source": [
    "import time\n",
    "\n",
    "tic = time.time()\n",
    "\n",
    "if CONSTRAIN_O2:\n",
    "    result = dyme.simulate_batch(T, c0_dict, X0, prec_bs=1e-3, ZERO_CONC=0., extra_rxns_tracked=extra_rxns_tracked,\n",
    "                             lb_dict={'EX_o2_e': -18.5}, verbosity=1)\n",
    "else:\n",
    "    result = dyme.simulate_batch(T, c0_dict, X0, prec_bs=1e-3, ZERO_CONC=0., extra_rxns_tracked=extra_rxns_tracked,\n",
    "                             lb_dict={}, verbosity=0)\n",
    "    \n",
    "toc = time.time()-tic"
   ]
  },
  {
   "cell_type": "code",
   "execution_count": null,
   "metadata": {},
   "outputs": [],
   "source": [
    "print('%g seconds'%toc)"
   ]
  },
  {
   "cell_type": "markdown",
   "metadata": {},
   "source": [
    "# 6. Convert solution's metabolite concentrations from mM to g/L"
   ]
  },
  {
   "cell_type": "code",
   "execution_count": null,
   "metadata": {},
   "outputs": [],
   "source": [
    "from dynamicme.dynamic import ParamOpt\n",
    "\n",
    "popt = ParamOpt(me, sim_params, growth_rxn=growth_rxn.id)\n",
    "sol = popt.compute_conc_profile(result)"
   ]
  },
  {
   "cell_type": "code",
   "execution_count": null,
   "metadata": {},
   "outputs": [],
   "source": [
    "df_mw = pd.DataFrame([{'id':m.id,'mass':m.mass if hasattr(m,'mass') else m.formula_weight,'name':m.name} for m in me.metabolites])\n",
    "\n",
    "sol_gL = sol.copy()\n",
    "variables = c0_dict.keys()\n",
    "\n",
    "for col in sol.columns:\n",
    "    if col in variables:\n",
    "        c_mM = sol[col]\n",
    "        mw = df_mw[ df_mw.id==col].mass.values[0]\n",
    "        c_gL = c_mM * mw / 1000.\n",
    "        sol_gL[col] = c_gL\n",
    "        \n",
    "df_ex = pd.DataFrame(result['ex_flux'])"
   ]
  },
  {
   "cell_type": "markdown",
   "metadata": {},
   "source": [
    "# 7. Plot metabolite concentration profiles"
   ]
  },
  {
   "cell_type": "code",
   "execution_count": null,
   "metadata": {},
   "outputs": [],
   "source": [
    "import seaborn as sns\n",
    "import matplotlib.pyplot as plt\n",
    "%matplotlib inline\n",
    "\n",
    "dsplot = sol_gL[[c for c in sol_gL.columns if c != 'biomass' and 'EX_' not in c]].melt(id_vars='time')\n",
    "\n",
    "dsplot.variable.unique()\n",
    "\n",
    "palette = ['#660066','#00FF00','#000000','#FF00FF','#0000FF','#FF0000']\n",
    "sns.set_palette(palette)\n",
    "g = sns.FacetGrid(dsplot, hue='variable', size=5)\n",
    "g.map(plt.plot, 'time','value')\n",
    "g.add_legend()"
   ]
  },
  {
   "cell_type": "code",
   "execution_count": null,
   "metadata": {},
   "outputs": [],
   "source": []
  },
  {
   "cell_type": "code",
   "execution_count": null,
   "metadata": {},
   "outputs": [],
   "source": []
  }
 ],
 "metadata": {
  "kernelspec": {
   "display_name": "Python 3",
   "language": "python",
   "name": "python3"
  },
  "language_info": {
   "codemirror_mode": {
    "name": "ipython",
    "version": 3
   },
   "file_extension": ".py",
   "mimetype": "text/x-python",
   "name": "python",
   "nbconvert_exporter": "python",
   "pygments_lexer": "ipython3",
   "version": "3.6.1"
  }
 },
 "nbformat": 4,
 "nbformat_minor": 2
}
