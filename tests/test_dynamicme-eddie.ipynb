{
 "cells": [
  {
   "cell_type": "code",
   "execution_count": 1,
   "metadata": {},
   "outputs": [
    {
     "name": "stderr",
     "output_type": "stream",
     "text": [
      "/usr/lib/python3.6/site-packages/cobra-0.5.11-py3.6-linux-x86_64.egg/cobra/solvers/__init__.py:63: UserWarning: No LP solvers found\n",
      "  warn(\"No LP solvers found\")\n",
      "/usr/lib/python3.6/site-packages/cobra-0.5.11-py3.6-linux-x86_64.egg/cobra/io/sbml3.py:24: UserWarning: Install lxml for faster SBML I/O\n",
      "  warn(\"Install lxml for faster SBML I/O\")\n",
      "/usr/lib/python3.6/site-packages/cobra-0.5.11-py3.6-linux-x86_64.egg/cobra/io/__init__.py:12: UserWarning: cobra.io.sbml requires libsbml\n",
      "  warn(\"cobra.io.sbml requires libsbml\")\n"
     ]
    }
   ],
   "source": [
    "from dynamicme.dynamic import DynamicME"
   ]
  },
  {
   "cell_type": "markdown",
   "metadata": {},
   "source": [
    "## Load the built ME model"
   ]
  },
  {
   "cell_type": "code",
   "execution_count": 2,
   "metadata": {},
   "outputs": [],
   "source": [
    "from cobrame.io.json import load_reduced_json_me_model, load_json_me_model\n",
    "import pickle"
   ]
  },
  {
   "cell_type": "code",
   "execution_count": 3,
   "metadata": {},
   "outputs": [],
   "source": [
    "with open('FoldME_Ali_keff.pickle','rb') as f:\n",
    "    me = pickle.load(f)"
   ]
  },
  {
   "cell_type": "code",
   "execution_count": null,
   "metadata": {},
   "outputs": [],
   "source": [
    "me.metabolites.get_by_id('ac_e')"
   ]
  },
  {
   "cell_type": "markdown",
   "metadata": {},
   "source": [
    "# Set up the dynamic simulation"
   ]
  },
  {
   "cell_type": "markdown",
   "metadata": {},
   "source": [
    "## Here, we will simulate the complex medium originally investigated by [Beg et al., 2007](http://www.pnas.org/content/104/31/12663)"
   ]
  },
  {
   "cell_type": "markdown",
   "metadata": {},
   "source": [
    "### Metabolites to track"
   ]
  },
  {
   "cell_type": "code",
   "execution_count": 7,
   "metadata": {},
   "outputs": [],
   "source": [
    "tracked_mets = [\n",
    "    me.metabolites.ac_p,\n",
    "    me.metabolites.gal_p,\n",
    "    me.metabolites.glc__D_p,\n",
    "    me.metabolites.glyc_p,\n",
    "    me.metabolites.lac__L_p, \n",
    "    me.metabolites.malt_p\n",
    "    ]\n",
    "extra_rxns_tracked = [me.reactions.biomass_dilution, me.reactions.EX_o2_e]"
   ]
  },
  {
   "cell_type": "markdown",
   "metadata": {},
   "source": [
    "### Also track translation fluxes"
   ]
  },
  {
   "cell_type": "code",
   "execution_count": 8,
   "metadata": {},
   "outputs": [
    {
     "name": "stdout",
     "output_type": "stream",
     "text": [
      "1579\n"
     ]
    }
   ],
   "source": [
    "rxns_trsl = me.reactions.query('translation_')\n",
    "print(len(rxns_trsl))\n",
    "extra_rxns_tracked = extra_rxns_tracked + rxns_trsl\n",
    "\n",
    "from cobrame.core.reaction import MetabolicReaction\n",
    "import pandas as pd\n",
    "\n",
    "rows_tracked = []\n",
    "\n",
    "for met_track in tracked_mets:\n",
    "    mid_c = met_track.id.replace('_p','_c')\n",
    "    mid_e = met_track.id.replace('_p','_e')\n",
    "    met_c = me.metabolites.get_by_id(mid_c)\n",
    "    met_e = me.metabolites.get_by_id(mid_e)\n",
    "    for rxn in met_track.reactions:\n",
    "        if isinstance(rxn, MetabolicReaction) and rxn.keff and met_c in rxn.metabolites or met_e in rxn.metabolites:\n",
    "            extra_rxns_tracked.append(rxn)\n",
    "            rows_tracked.append({'met':met_track.id, 'rxn':rxn.id})\n",
    "            #print met_track,'\\t', rxn.id, '\\t', rxn.keff          \n",
    "            \n",
    "df_tracked = pd.DataFrame(rows_tracked)"
   ]
  },
  {
   "cell_type": "code",
   "execution_count": 9,
   "metadata": {},
   "outputs": [
    {
     "name": "stdout",
     "output_type": "stream",
     "text": [
      "{'glc__D_e': 2.220299442904667, 'lac__L_e': 4.4908498933423155, 'malt_e': 1.1685776026677226, 'gal_e': 2.220299442904667, 'glyc_e': 4.34339676647141, 'ac_e': 0.0}\n",
      "{'EX_glc__D_e': -10.0, 'EX_lac__L_e': -10.0, 'EX_malt_e': -10.0, 'EX_gal_e': -10.0, 'EX_glyc_e': -10.0, 'EX_ac_e': -10.0, 'EX_o2_e': -20.0}\n",
      "{}\n"
     ]
    }
   ],
   "source": [
    "dyme = DynamicME(me)\n",
    "\n",
    "T = 10   # hours\n",
    "V = 1.   # L\n",
    "X0 = 0.00675 / V  # g/L\n",
    "c0_dict = {'glc__D_e': 0.4,\n",
    "           'lac__L_e': 0.4,\n",
    "           'malt_e': 0.4,\n",
    "           'gal_e': 0.4,\n",
    "           'glyc_e':0.4,\n",
    "           'ac_e': 0.0}\n",
    "### Convert from g/L to mmol\n",
    "for mid,c in c0_dict.items():\n",
    "    met = me.metabolites.get_by_id(mid)\n",
    "    c0_dict[met.id] = c / met.formula_weight * 1000\n",
    "\n",
    "### Set max uptake rate\n",
    "LB_EX = -10.\n",
    "LB_O2 = -20.\n",
    "\n",
    "lb_dict={}\n",
    "ub_dict={}\n",
    "\n",
    "for mid in c0_dict.keys():    \n",
    "    rxn = dyme.get_exchange_rxn(mid)    \n",
    "    if rxn.id == 'EX_o2_e':\n",
    "        lb = LB_O2\n",
    "    else:\n",
    "        lb = LB_EX\n",
    "    #rxn.lower_bound = lb\n",
    "    lb_dict[rxn.id] = lb\n",
    "\n",
    "#me.reactions.EX_o2_e.lower_bound = LB_O2\n",
    "lb_dict[me.reactions.EX_o2_e.id] = LB_O2\n",
    "\n",
    "print(c0_dict)\n",
    "print(lb_dict)\n",
    "print(ub_dict)\n",
    "\n",
    "sim_params = {\n",
    "    'T':T,\n",
    "    'X0':X0,\n",
    "    'c0_dict':c0_dict,\n",
    "    'lb_dict':lb_dict,\n",
    "    'ub_dict':ub_dict,\n",
    "    'extra_rxns_tracked':extra_rxns_tracked,\n",
    "    'ZERO_CONC':0.\n",
    "}"
   ]
  },
  {
   "cell_type": "code",
   "execution_count": 33,
   "metadata": {},
   "outputs": [],
   "source": [
    "import json\n",
    "\n",
    "def convert_for_json(obj):\n",
    "    if isinstance(obj, np.ndarray):\n",
    "        return obj.tolist()\n",
    "    if isinstance(obj, dict):\n",
    "        return {k: convert_for_json(v) for k, v in obj.items()}\n",
    "    if isinstance(obj, list):\n",
    "        return [convert_for_json(v) for v in obj]\n",
    "    return obj\n",
    "\n",
    "# ...after you get result...\n",
    "json_result = convert_for_json(result)\n",
    "with open('test_dynamicme_results.json', 'w') as f:\n",
    "    json.dump(json_result, f)\n",
    "\n",
    "# print(f\"Results saved to {config.get('json_output_file', 'dynamicme_results.json')}\")"
   ]
  },
  {
   "cell_type": "code",
   "execution_count": 12,
   "metadata": {},
   "outputs": [],
   "source": [
    "biomass_rxn_ids = [r.id for r in me.reactions if r.id.endswith('_biomass_to_biomass')]\n",
    "formation_rxn_ids = [r.id for r in me.reactions if r.id.startswith('formation_')]\n"
   ]
  },
  {
   "cell_type": "code",
   "execution_count": 13,
   "metadata": {},
   "outputs": [],
   "source": [
    "for rxn_id in biomass_rxn_ids + formation_rxn_ids:\n",
    "    rxn = me.reactions.get_by_id(rxn_id)\n",
    "    \n",
    "    extra_rxns_tracked += [rxn]"
   ]
  },
  {
   "cell_type": "markdown",
   "metadata": {},
   "source": [
    "# Perform DynamicME simulation"
   ]
  },
  {
   "cell_type": "code",
   "execution_count": 14,
   "metadata": {},
   "outputs": [],
   "source": [
    "dyme = DynamicME(me)"
   ]
  },
  {
   "cell_type": "code",
   "execution_count": 15,
   "metadata": {
    "scrolled": true
   },
   "outputs": [
    {
     "name": "stdout",
     "output_type": "stream",
     "text": [
      "Metabolite glc__D_e available.\n",
      "Using default LB=-1000 for EX_glc__D_e\n",
      "Metabolite lac__L_e available.\n",
      "Using default LB=-1000 for EX_lac__L_e\n",
      "Metabolite malt_e available.\n",
      "Using default LB=-1000 for EX_malt_e\n",
      "Metabolite gal_e available.\n",
      "Using default LB=-1000 for EX_gal_e\n",
      "Metabolite glyc_e available.\n",
      "Using default LB=-1000 for EX_glyc_e\n",
      "Metabolite ac_e depleted.\n",
      "Computing new uptake rates\n",
      "Finished compiling expressions in 111.098186 seconds\n",
      "Finished substituting S,lb,ub in 10.808743 seconds\n",
      "Finished makeME_LP in 1.623027 seconds\n",
      "Getting MINOS parameters from ME_NLP...\n",
      "Finished substituting S,lb,ub in 10.621161 seconds\n",
      "Finished makeME_LP in 1.616483 seconds\n",
      "Getting MINOS parameters from ME_NLP...\n",
      "Finished substituting S,lb,ub in 10.394697 seconds\n",
      "Finished makeME_LP in 1.580271 seconds\n",
      "Getting MINOS parameters from ME_NLP...\n",
      "Finished substituting S,lb,ub in 10.298050 seconds\n",
      "Finished makeME_LP in 1.709930 seconds\n",
      "Getting MINOS parameters from ME_NLP...\n",
      "Finished substituting S,lb,ub in 10.503304 seconds\n",
      "Finished makeME_LP in 1.597972 seconds\n",
      "Getting MINOS parameters from ME_NLP...\n",
      "Finished substituting S,lb,ub in 10.207638 seconds\n",
      "Finished makeME_LP in 1.589998 seconds\n",
      "Getting MINOS parameters from ME_NLP...\n",
      "Finished substituting S,lb,ub in 10.182156 seconds\n",
      "Finished makeME_LP in 1.629328 seconds\n",
      "Getting MINOS parameters from ME_NLP...\n",
      "Finished substituting S,lb,ub in 10.252377 seconds\n",
      "Finished makeME_LP in 1.576865 seconds\n",
      "Getting MINOS parameters from ME_NLP...\n",
      "Finished substituting S,lb,ub in 10.644521 seconds\n",
      "Finished makeME_LP in 1.596751 seconds\n",
      "Getting MINOS parameters from ME_NLP...\n",
      "Finished substituting S,lb,ub in 10.223011 seconds\n",
      "Finished makeME_LP in 1.565388 seconds\n",
      "Getting MINOS parameters from ME_NLP...\n",
      "Finished substituting S,lb,ub in 10.158166 seconds\n",
      "Finished makeME_LP in 1.580101 seconds\n",
      "Getting MINOS parameters from ME_NLP...\n",
      "Biomass at t=0.1: 0.00720417\n",
      "Concentrations: {'glc__D_e': 2.215340752217403, 'lac__L_e': 4.4908498933423155, 'malt_e': 1.1685776026677226, 'gal_e': 2.220299442904667, 'glyc_e': 4.342423105345999, 'ac_e': 0.00027881021762644675}\n"
     ]
    }
   ],
   "source": [
    "import time\n",
    "\n",
    "tic = time.time()\n",
    "\n",
    "result = dyme.simulate_batch(T = .1, # testing\n",
    "                             c0_dict=c0_dict,\n",
    "                             X0=X0, \n",
    "                             prec_bs=1e-3,\n",
    "                             ZERO_CONC=0.,\n",
    "                             extra_rxns_tracked=extra_rxns_tracked,\n",
    "                             lb_dict={}, \n",
    "                             verbosity=1,\n",
    ")   \n",
    "toc = time.time()-tic"
   ]
  },
  {
   "cell_type": "code",
   "execution_count": 16,
   "metadata": {},
   "outputs": [
    {
     "name": "stdout",
     "output_type": "stream",
     "text": [
      "1733.66 seconds\n"
     ]
    }
   ],
   "source": [
    "print('%g seconds'%toc)"
   ]
  },
  {
   "cell_type": "markdown",
   "metadata": {},
   "source": [
    "# Convert solution's metabolite concentrations from mM to g/L"
   ]
  },
  {
   "cell_type": "code",
   "execution_count": 17,
   "metadata": {},
   "outputs": [],
   "source": [
    "from dynamicme.dynamic import ParamOpt\n",
    "\n",
    "popt = ParamOpt(me, sim_params, growth_rxn=growth_rxn.id)\n",
    "sol = popt.compute_conc_profile(result)"
   ]
  },
  {
   "cell_type": "code",
   "execution_count": 18,
   "metadata": {},
   "outputs": [],
   "source": [
    "df_mw = pd.DataFrame([{'id':m.id,'mass':m.mass if hasattr(m,'mass') else m.formula_weight,'name':m.name} for m in me.metabolites])\n",
    "\n",
    "sol_gL = sol.copy()\n",
    "variables = c0_dict.keys()\n",
    "\n",
    "for col in sol.columns:\n",
    "    if col in variables:\n",
    "        c_mM = sol[col]\n",
    "        mw = df_mw[ df_mw.id==col].mass.values[0]\n",
    "        c_gL = c_mM * mw / 1000.\n",
    "        sol_gL[col] = c_gL\n",
    "        \n",
    "df_ex = pd.DataFrame(result['ex_flux'])"
   ]
  },
  {
   "cell_type": "markdown",
   "metadata": {},
   "source": [
    "# Plot metabolite concentration profiles"
   ]
  },
  {
   "cell_type": "code",
   "execution_count": 19,
   "metadata": {},
   "outputs": [
    {
     "name": "stderr",
     "output_type": "stream",
     "text": [
      "/usr/lib/python3.6/site-packages/seaborn/axisgrid.py:337 \u001b[1;31mUserWarning\u001b[0m: The `size` parameter has been renamed to `height`; please update your code.\n"
     ]
    },
    {
     "data": {
      "text/plain": [
       "<seaborn.axisgrid.FacetGrid at 0x7924adb8ac50>"
      ]
     },
     "execution_count": 19,
     "metadata": {},
     "output_type": "execute_result"
    },
    {
     "data": {
      "image/png": "[encoded data removed]",
      "text/plain": [
       "<Figure size 439.625x360 with 1 Axes>"
      ]
     },
     "metadata": {},
     "output_type": "display_data"
    }
   ],
   "source": [
    "import seaborn as sns\n",
    "import matplotlib.pyplot as plt\n",
    "%matplotlib inline\n",
    "\n",
    "dsplot = sol_gL[[c for c in sol_gL.columns if c != 'biomass' and 'EX_' not in c]].melt(id_vars='time')\n",
    "\n",
    "dsplot.variable.unique()\n",
    "\n",
    "palette = ['#660066','#00FF00','#000000','#FF00FF','#0000FF','#FF0000']\n",
    "sns.set_palette(palette)\n",
    "g = sns.FacetGrid(dsplot, hue='variable', size=5)\n",
    "g.map(plt.plot, 'time','value')\n",
    "g.add_legend()"
   ]
  },
  {
   "cell_type": "raw",
   "metadata": {},
   "source": [
    "sol_gL.to_csv('dynamicme_example_output.csv')"
   ]
  },
  {
   "cell_type": "markdown",
   "metadata": {},
   "source": [
    "# Plot Mass Fractions"
   ]
  },
  {
   "cell_type": "raw",
   "metadata": {},
   "source": [
    "\n",
    "t_flux = 0\n",
    "for rxn , flux in me.solution.x_dict.items():\n",
    "    if flux > 0 and 'to_biomass' in rxn:\n",
    "        print (rxn,'\\t',flux)\n",
    "        t_flux+= flux\n",
    "print (t_flux)\n",
    "\n",
    "print  (result['rxn_flux'][2]['biomass_dilution'])"
   ]
  },
  {
   "cell_type": "code",
   "execution_count": 20,
   "metadata": {},
   "outputs": [
    {
     "data": {
      "image/png": "[encoded data removed]",
      "text/plain": [
       "<Figure size 432x288 with 1 Axes>"
      ]
     },
     "metadata": {},
     "output_type": "display_data"
    }
   ],
   "source": [
    "import numpy as np, pandas as pd\n",
    "\n",
    "# figure out IDs from what's actually in your result\n",
    "rf0 = result['rxn_flux'][0]\n",
    "growth_rxn_id = 'biomass_dilution'  # change if yours differs\n",
    "biomass_rxn_ids = sorted([k for k in rf0 if k.endswith('_biomass_to_biomass')])\n",
    "\n",
    "rows = []\n",
    "for t, rf in zip(result['time'], result['rxn_flux']):\n",
    "    mu = rf.get(growth_rxn_id, np.nan)\n",
    "    row = {'time': t, 'mu': mu}\n",
    "    for rid in biomass_rxn_ids:\n",
    "        pool = rid.replace('_biomass_to_biomass', '')   # e.g. 'protein','rRNA','DNA','lipid',...\n",
    "        v = rf.get(rid, 0.0)\n",
    "        row[pool] = (v / mu) if (mu and mu > 0) else np.nan\n",
    "    rows.append(row)\n",
    "\n",
    "df_mf = pd.DataFrame(rows).sort_values('time')\n",
    "df_mf['sum_pools'] = df_mf.drop(columns=['time','mu']).sum(axis=1)  # ~1.0 sanity check\n",
    "df_mf.head()\n",
    "import seaborn as sns, matplotlib.pyplot as plt\n",
    "\n",
    "value_cols = [c for c in df_mf.columns if c not in ('time','mu','sum_pools')]\n",
    "df_long = df_mf.melt(id_vars='time', value_vars=value_cols,\n",
    "                     var_name='pool', value_name='mass_fraction')\n",
    "\n",
    "sns.lineplot(data=df_long, x='time', y='mass_fraction', hue='pool')\n",
    "plt.ylabel('Mass fraction')\n",
    "plt.ylim(0, 1)\n",
    "plt.legend(bbox_to_anchor=(1.02, 1), loc='upper left', frameon=False)\n",
    "plt.show()\n"
   ]
  },
  {
   "cell_type": "code",
   "execution_count": 21,
   "metadata": {},
   "outputs": [
    {
     "data": {
      "image/png": "[encoded data removed]",
      "text/plain": [
       "<Figure size 432x288 with 1 Axes>"
      ]
     },
     "metadata": {},
     "output_type": "display_data"
    }
   ],
   "source": [
    "import numpy as np, pandas as pd\n",
    "\n",
    "# figure out IDs from what's actually in your result\n",
    "rf0 = result['rxn_flux'][0]\n",
    "growth_rxn_id = 'biomass_dilution'  # change if yours differs\n",
    "formation_rxn_ids = sorted([k for k in rf0 if 'formation' in  k])\n",
    "\n",
    "rows = []\n",
    "for t, rf in zip(result['time'], result['rxn_flux']):\n",
    "    mu = rf.get(growth_rxn_id, np.nan)\n",
    "    row = {'time': t, 'mu': mu}\n",
    "    for rid in formation_rxn_ids:\n",
    "        pool = rid.replace('formation_', '')   # e.g. 'protein','rRNA','DNA','lipid',...\n",
    "        v = rf.get(rid, 0.0)\n",
    "        row[pool] = (v / mu) if (mu and mu > 0) else np.nan\n",
    "    rows.append(row)\n",
    "\n",
    "df_mf = pd.DataFrame(rows).sort_values('time')\n",
    "df_mf['sum_pools'] = df_mf.drop(columns=['time','mu']).sum(axis=1)  # ~1.0 sanity check\n",
    "df_mf.head()\n",
    "import seaborn as sns, matplotlib.pyplot as plt\n",
    "\n",
    "value_cols = [c for c in df_mf.columns if c not in ('time','mu','sum_pools')]\n",
    "df_long = df_mf.melt(id_vars='time', value_vars=value_cols,\n",
    "                     var_name='pool', value_name='mass_fraction')\n",
    "\n",
    "fig, ax = plt.subplots()\n",
    "\n",
    "ax = sns.lineplot(data=df_long, x='time', y='mass_fraction', hue='pool',legend=False)\n",
    "ax.set_ylabel('Mass fraction')\n",
    "# plt.ylim(0, 1)\n",
    "ax.set_yscale('log')\n",
    "# plt.legend(bbox_to_anchor=(1.02, 1), loc='upper left', frameon=False)\n",
    "plt.show()\n"
   ]
  },
  {
   "cell_type": "code",
   "execution_count": null,
   "metadata": {},
   "outputs": [],
   "source": []
  }
 ],
 "metadata": {
  "kernelspec": {
   "display_name": "Python 3",
   "language": "python",
   "name": "python3"
  },
  "language_info": {
   "codemirror_mode": {
    "name": "ipython",
    "version": 3
   },
   "file_extension": ".py",
   "mimetype": "text/x-python",
   "name": "python",
   "nbconvert_exporter": "python",
   "pygments_lexer": "ipython3",
   "version": "3.6.1"
  }
 },
 "nbformat": 4,
 "nbformat_minor": 2
}
