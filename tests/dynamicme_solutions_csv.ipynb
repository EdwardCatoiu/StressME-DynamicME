{
 "cells": [
  {
   "cell_type": "code",
   "execution_count": 2,
   "metadata": {},
   "outputs": [
    {
     "name": "stderr",
     "output_type": "stream",
     "text": [
      "/usr/lib/python3.6/site-packages/cobra-0.5.11-py3.6-linux-x86_64.egg/cobra/solvers/__init__.py:63: UserWarning: No LP solvers found\n",
      "  warn(\"No LP solvers found\")\n",
      "/usr/lib/python3.6/site-packages/cobra-0.5.11-py3.6-linux-x86_64.egg/cobra/io/sbml3.py:24: UserWarning: Install lxml for faster SBML I/O\n",
      "  warn(\"Install lxml for faster SBML I/O\")\n",
      "/usr/lib/python3.6/site-packages/cobra-0.5.11-py3.6-linux-x86_64.egg/cobra/io/__init__.py:12: UserWarning: cobra.io.sbml requires libsbml\n",
      "  warn(\"cobra.io.sbml requires libsbml\")\n"
     ]
    }
   ],
   "source": [
    "from dynamicme.dynamic import DynamicME"
   ]
  },
  {
   "cell_type": "markdown",
   "metadata": {},
   "source": [
    "## Load the built ME model"
   ]
  },
  {
   "cell_type": "markdown",
   "metadata": {},
   "source": []
  },
  {
   "cell_type": "code",
   "execution_count": 3,
   "metadata": {},
   "outputs": [],
   "source": [
    "from cobrame.io.json import load_reduced_json_me_model, load_json_me_model\n",
    "import pickle"
   ]
  },
  {
   "cell_type": "code",
   "execution_count": 4,
   "metadata": {},
   "outputs": [],
   "source": [
    "with open('FoldME_Ali_keff.pickle','rb') as f:\n",
    "    me = pickle.load(f)"
   ]
  },
  {
   "cell_type": "markdown",
   "metadata": {},
   "source": [
    "# Set up the dynamic simulation"
   ]
  },
  {
   "cell_type": "markdown",
   "metadata": {},
   "source": [
    "## Here, we will simulate the complex medium originally investigated by [Beg et al., 2007](http://www.pnas.org/content/104/31/12663)"
   ]
  },
  {
   "cell_type": "markdown",
   "metadata": {},
   "source": [
    "### Metabolites to track"
   ]
  },
  {
   "cell_type": "code",
   "execution_count": 5,
   "metadata": {},
   "outputs": [],
   "source": [
    "tracked_mets = [\n",
    "    me.metabolites.ac_p,\n",
    "    me.metabolites.gal_p,\n",
    "    me.metabolites.glc__D_p,\n",
    "    me.metabolites.glyc_p,\n",
    "    me.metabolites.lac__L_p, \n",
    "    me.metabolites.malt_p\n",
    "    ]\n",
    "extra_rxns_tracked = [me.reactions.biomass_dilution, me.reactions.EX_o2_e]"
   ]
  },
  {
   "cell_type": "markdown",
   "metadata": {},
   "source": [
    "### Also track translation fluxes"
   ]
  },
  {
   "cell_type": "code",
   "execution_count": 14,
   "metadata": {},
   "outputs": [
    {
     "data": {
      "text/plain": [
       "[<SummaryVariable biomass_dilution at 0x7ac3ae9bf7f0>,\n",
       " <SummaryVariable protein_biomass_to_biomass at 0x7ac3aeb724a8>,\n",
       " <SummaryVariable mRNA_biomass_to_biomass at 0x7ac3ae975160>,\n",
       " <SummaryVariable tRNA_biomass_to_biomass at 0x7ac3ae9750f0>,\n",
       " <SummaryVariable rRNA_biomass_to_biomass at 0x7ac3ae975080>,\n",
       " <SummaryVariable ncRNA_biomass_to_biomass at 0x7ac3ae975390>,\n",
       " <SummaryVariable DNA_biomass_to_biomass at 0x7ac3ae975400>,\n",
       " <SummaryVariable lipid_biomass_to_biomass at 0x7ac3ae975470>,\n",
       " <SummaryVariable constituent_biomass_to_biomass at 0x7ac3ae9754e0>,\n",
       " <SummaryVariable prosthetic_group_biomass_to_biomass at 0x7ac3ae975550>,\n",
       " <SummaryVariable peptidoglycan_biomass_to_biomass at 0x7ac3ae9755c0>,\n",
       " <SummaryVariable biomass_constituent_demand at 0x7ac348577940>]"
      ]
     },
     "execution_count": 14,
     "metadata": {},
     "output_type": "execute_result"
    }
   ],
   "source": [
    "me.reactions.query('biomass')"
   ]
  },
  {
   "cell_type": "code",
   "execution_count": 15,
   "metadata": {},
   "outputs": [
    {
     "name": "stdout",
     "output_type": "stream",
     "text": [
      "1579\n",
      "12\n",
      "1448\n"
     ]
    }
   ],
   "source": [
    "rxns_trsl = me.reactions.query('translation_')\n",
    "print(len(rxns_trsl))\n",
    "extra_rxns_tracked = extra_rxns_tracked + rxns_trsl\n",
    "\n",
    "rxns_biomass = me.reactions.query('biomass')\n",
    "print(len(rxns_biomass))\n",
    "extra_rxns_tracked = extra_rxns_tracked + rxns_biomass\n",
    "\n",
    "\n",
    "rxns_cplx_formation = me.reactions.query('formation_')\n",
    "print(len(rxns_cplx_formation))\n",
    "extra_rxns_tracked = extra_rxns_tracked + rxns_cplx_formation\n",
    "\n",
    "\n",
    "from cobrame.core.reaction import MetabolicReaction\n",
    "import pandas as pd\n",
    "\n",
    "rows_tracked = []\n",
    "\n",
    "for met_track in tracked_mets:\n",
    "    mid_c = met_track.id.replace('_p','_c')\n",
    "    mid_e = met_track.id.replace('_p','_e')\n",
    "    met_c = me.metabolites.get_by_id(mid_c)\n",
    "    met_e = me.metabolites.get_by_id(mid_e)\n",
    "    for rxn in met_track.reactions:\n",
    "        if isinstance(rxn, MetabolicReaction) and rxn.keff and met_c in rxn.metabolites or met_e in rxn.metabolites:\n",
    "            extra_rxns_tracked.append(rxn)\n",
    "            rows_tracked.append({'met':met_track.id, 'rxn':rxn.id})\n",
    "            #print met_track,'\\t', rxn.id, '\\t', rxn.keff          \n",
    "            \n",
    "df_tracked = pd.DataFrame(rows_tracked)"
   ]
  },
  {
   "cell_type": "code",
   "execution_count": 17,
   "metadata": {},
   "outputs": [
    {
     "name": "stdout",
     "output_type": "stream",
     "text": [
      "{'glc__D_e': 2.220299442904667, 'lac__L_e': 4.4908498933423155, 'malt_e': 1.1685776026677226, 'gal_e': 2.220299442904667, 'glyc_e': 4.34339676647141, 'ac_e': 0.0}\n",
      "{'EX_glc__D_e': -10.0, 'EX_lac__L_e': -10.0, 'EX_malt_e': -10.0, 'EX_gal_e': -10.0, 'EX_glyc_e': -10.0, 'EX_ac_e': -10.0, 'EX_o2_e': -20.0}\n",
      "{}\n"
     ]
    }
   ],
   "source": [
    "dyme = DynamicME(me)\n",
    "\n",
    "T = 10   # hours\n",
    "V = 1.   # L\n",
    "X0 = 0.00675 / V  # g/L\n",
    "c0_dict = {'glc__D_e': 0.4,\n",
    "           'lac__L_e': 0.4,\n",
    "           'malt_e': 0.4,\n",
    "           'gal_e': 0.4,\n",
    "           'glyc_e':0.4,\n",
    "           'ac_e': 0.0}\n",
    "### Convert from g/L to mmol\n",
    "for mid,c in c0_dict.items():\n",
    "    met = me.metabolites.get_by_id(mid)\n",
    "    c0_dict[met.id] = c / met.formula_weight * 1000\n",
    "\n",
    "### Set max uptake rate\n",
    "LB_EX = -10.\n",
    "LB_O2 = -20.\n",
    "\n",
    "lb_dict={}\n",
    "ub_dict={}\n",
    "\n",
    "for mid in c0_dict.keys():    \n",
    "    rxn = dyme.get_exchange_rxn(mid)    \n",
    "    if rxn.id == 'EX_o2_e':\n",
    "        lb = LB_O2\n",
    "    else:\n",
    "        lb = LB_EX\n",
    "    #rxn.lower_bound = lb\n",
    "    lb_dict[rxn.id] = lb\n",
    "\n",
    "#me.reactions.EX_o2_e.lower_bound = LB_O2\n",
    "lb_dict[me.reactions.EX_o2_e.id] = LB_O2\n",
    "\n",
    "print(c0_dict)\n",
    "print(lb_dict)\n",
    "print(ub_dict)\n",
    "\n",
    "sim_params = {\n",
    "    'T':T,\n",
    "    'X0':X0,\n",
    "    'c0_dict':c0_dict,\n",
    "    'lb_dict':lb_dict,\n",
    "    'ub_dict':ub_dict,\n",
    "    'extra_rxns_tracked':extra_rxns_tracked,\n",
    "    'ZERO_CONC':0.\n",
    "}"
   ]
  },
  {
   "cell_type": "code",
   "execution_count": 18,
   "metadata": {},
   "outputs": [],
   "source": [
    "growth_rxn = me.reactions.biomass_dilution"
   ]
  },
  {
   "cell_type": "markdown",
   "metadata": {},
   "source": [
    "# Perform DynamicME simulation"
   ]
  },
  {
   "cell_type": "code",
   "execution_count": 19,
   "metadata": {},
   "outputs": [],
   "source": [
    "dyme = DynamicME(me)"
   ]
  },
  {
   "cell_type": "code",
   "execution_count": 20,
   "metadata": {
    "scrolled": true
   },
   "outputs": [
    {
     "name": "stdout",
     "output_type": "stream",
     "text": [
      "Test to get cplx concs failed! Exiting now.\n"
     ]
    },
    {
     "ename": "Exception",
     "evalue": "'NoneType' object is not subscriptable",
     "output_type": "error",
     "traceback": [
      "\u001b[0;31m---------------------------------------------------------------------------\u001b[0m",
      "\u001b[0;31mTypeError\u001b[0m                                 Traceback (most recent call last)",
      "\u001b[0;32m/usr/lib/python3.6/site-packages/dynamicME-0.1-py3.6.egg/dynamicme/dynamic.py\u001b[0m in \u001b[0;36msimulate_batch\u001b[0;34m(self, T, c0_dict, X0, dt, o2_e_id, o2_head, kLa, conc_dep_fluxes, extra_rxns_tracked, prec_bs, ZERO_CONC, lb_dict, ub_dict, proteome_has_inertia, cplx_conc_dict0, mm_model, basis, verbosity, LB_DEFAULT, UB_DEFAULT, throttle_near_zero)\u001b[0m\n\u001b[1;32m    149\u001b[0m             \u001b[0;32mtry\u001b[0m\u001b[0;34m:\u001b[0m\u001b[0;34m\u001b[0m\u001b[0m\n\u001b[0;32m--> 150\u001b[0;31m                 \u001b[0mcplx_concs\u001b[0m \u001b[0;34m=\u001b[0m \u001b[0mget_cplx_concs\u001b[0m\u001b[0;34m(\u001b[0m\u001b[0msolver\u001b[0m\u001b[0;34m,\u001b[0m \u001b[0mcplxs\u001b[0m\u001b[0;34m=\u001b[0m\u001b[0mcplxs\u001b[0m\u001b[0;34m,\u001b[0m \u001b[0mundiluted_cplxs\u001b[0m\u001b[0;34m=\u001b[0m\u001b[0;34m[\u001b[0m\u001b[0;34m]\u001b[0m\u001b[0;34m)\u001b[0m\u001b[0;34m\u001b[0m\u001b[0m\n\u001b[0m\u001b[1;32m    151\u001b[0m                 \u001b[0;32massert\u001b[0m \u001b[0mlen\u001b[0m\u001b[0;34m(\u001b[0m\u001b[0mlist\u001b[0m\u001b[0;34m(\u001b[0m\u001b[0mcplx_concs\u001b[0m\u001b[0;34m.\u001b[0m\u001b[0mkeys\u001b[0m\u001b[0;34m(\u001b[0m\u001b[0;34m)\u001b[0m\u001b[0;34m)\u001b[0m\u001b[0;34m)\u001b[0m \u001b[0;34m==\u001b[0m \u001b[0mlen\u001b[0m\u001b[0;34m(\u001b[0m\u001b[0mcplxs\u001b[0m\u001b[0;34m)\u001b[0m\u001b[0;34m\u001b[0m\u001b[0m\n",
      "\u001b[0;32m/usr/lib/python3.6/site-packages/dynamicME-0.1-py3.6.egg/dynamicme/dynamic.py\u001b[0m in \u001b[0;36mget_cplx_concs\u001b[0;34m(solver, muopt, growth_rxn, undiluted_cplxs, ZERO, cplxs)\u001b[0m\n\u001b[1;32m   1343\u001b[0m         \u001b[0;31m#muopt = solver.substitution_dict['mu']\u001b[0m\u001b[0;34m\u001b[0m\u001b[0;34m\u001b[0m\u001b[0m\n\u001b[0;32m-> 1344\u001b[0;31m         \u001b[0mmuopt\u001b[0m \u001b[0;34m=\u001b[0m \u001b[0mx_dict\u001b[0m\u001b[0;34m[\u001b[0m\u001b[0mgrowth_rxn\u001b[0m\u001b[0;34m]\u001b[0m\u001b[0;34m\u001b[0m\u001b[0m\n\u001b[0m\u001b[1;32m   1345\u001b[0m \u001b[0;34m\u001b[0m\u001b[0m\n",
      "\u001b[0;31mTypeError\u001b[0m: 'NoneType' object is not subscriptable",
      "\nDuring handling of the above exception, another exception occurred:\n",
      "\u001b[0;31mException\u001b[0m                                 Traceback (most recent call last)",
      "\u001b[0;32m<ipython-input-20-1df5a1ac2bb1>\u001b[0m in \u001b[0;36m<module>\u001b[0;34m()\u001b[0m\n\u001b[1;32m     11\u001b[0m                              \u001b[0mlb_dict\u001b[0m\u001b[0;34m=\u001b[0m\u001b[0;34m{\u001b[0m\u001b[0;34m}\u001b[0m\u001b[0;34m,\u001b[0m\u001b[0;34m\u001b[0m\u001b[0m\n\u001b[1;32m     12\u001b[0m                              \u001b[0mverbosity\u001b[0m\u001b[0;34m=\u001b[0m\u001b[0;36m1\u001b[0m\u001b[0;34m,\u001b[0m\u001b[0;34m\u001b[0m\u001b[0m\n\u001b[0;32m---> 13\u001b[0;31m                             \u001b[0mcplx_conc_dict0\u001b[0m \u001b[0;34m=\u001b[0m \u001b[0;34m{\u001b[0m\u001b[0mdata\u001b[0m\u001b[0;34m.\u001b[0m\u001b[0mcomplex\u001b[0m\u001b[0;34m.\u001b[0m\u001b[0mid\u001b[0m\u001b[0;34m:\u001b[0m \u001b[0;36m0.0\u001b[0m \u001b[0;32mfor\u001b[0m \u001b[0mdata\u001b[0m \u001b[0;32min\u001b[0m \u001b[0mme\u001b[0m\u001b[0;34m.\u001b[0m\u001b[0mcomplex_data\u001b[0m\u001b[0;34m}\u001b[0m\u001b[0;34m\u001b[0m\u001b[0m\n\u001b[0m\u001b[1;32m     14\u001b[0m )   \n\u001b[1;32m     15\u001b[0m \u001b[0mtoc\u001b[0m \u001b[0;34m=\u001b[0m \u001b[0mtime\u001b[0m\u001b[0;34m.\u001b[0m\u001b[0mtime\u001b[0m\u001b[0;34m(\u001b[0m\u001b[0;34m)\u001b[0m\u001b[0;34m-\u001b[0m\u001b[0mtic\u001b[0m\u001b[0;34m\u001b[0m\u001b[0m\n",
      "\u001b[0;32m/usr/lib/python3.6/site-packages/dynamicME-0.1-py3.6.egg/dynamicme/dynamic.py\u001b[0m in \u001b[0;36msimulate_batch\u001b[0;34m(self, T, c0_dict, X0, dt, o2_e_id, o2_head, kLa, conc_dep_fluxes, extra_rxns_tracked, prec_bs, ZERO_CONC, lb_dict, ub_dict, proteome_has_inertia, cplx_conc_dict0, mm_model, basis, verbosity, LB_DEFAULT, UB_DEFAULT, throttle_near_zero)\u001b[0m\n\u001b[1;32m    152\u001b[0m             \u001b[0;32mexcept\u001b[0m \u001b[0mException\u001b[0m \u001b[0;32mas\u001b[0m \u001b[0me\u001b[0m\u001b[0;34m:\u001b[0m\u001b[0;34m\u001b[0m\u001b[0m\n\u001b[1;32m    153\u001b[0m                 \u001b[0mprint\u001b[0m\u001b[0;34m(\u001b[0m\u001b[0;34m\"Test to get cplx concs failed! Exiting now.\"\u001b[0m\u001b[0;34m)\u001b[0m\u001b[0;34m\u001b[0m\u001b[0m\n\u001b[0;32m--> 154\u001b[0;31m                 \u001b[0;32mraise\u001b[0m \u001b[0mException\u001b[0m\u001b[0;34m(\u001b[0m\u001b[0me\u001b[0m\u001b[0;34m)\u001b[0m\u001b[0;34m\u001b[0m\u001b[0m\n\u001b[0m\u001b[1;32m    155\u001b[0m \u001b[0;34m\u001b[0m\u001b[0m\n\u001b[1;32m    156\u001b[0m         \u001b[0mcplx_conc_dict\u001b[0m \u001b[0;34m=\u001b[0m \u001b[0mdict\u001b[0m\u001b[0;34m(\u001b[0m\u001b[0mcplx_conc_dict0\u001b[0m\u001b[0;34m)\u001b[0m\u001b[0;34m\u001b[0m\u001b[0m\n",
      "\u001b[0;31mException\u001b[0m: 'NoneType' object is not subscriptable"
     ]
    }
   ],
   "source": [
    "import time\n",
    "\n",
    "tic = time.time()\n",
    "\n",
    "result = dyme.simulate_batch(T = 0.2, # testing\n",
    "                             c0_dict=c0_dict,\n",
    "                             X0=X0, \n",
    "                             prec_bs=1e-3,\n",
    "                             ZERO_CONC=0.,\n",
    "                             extra_rxns_tracked=extra_rxns_tracked,\n",
    "                             lb_dict={}, \n",
    "                             verbosity=1,\n",
    "                            cplx_conc_dict0 = {data.complex.id: 0.0 for data in me.complex_data}\n",
    ")   \n",
    "toc = time.time()-tic"
   ]
  },
  {
   "cell_type": "code",
   "execution_count": null,
   "metadata": {},
   "outputs": [],
   "source": [
    "print('%g seconds'%toc)"
   ]
  },
  {
   "cell_type": "code",
   "execution_count": null,
   "metadata": {},
   "outputs": [],
   "source": [
    "import pandas as pd\n",
    "import numpy as np\n",
    "import matplotlib.pyplot as plt\n",
    "\n",
    "def fractions_from_result(result):\n",
    "    \"\"\"\n",
    "    Build a tidy dataframe of relative mass fractions straight from\n",
    "    result['complex'] (which is mmol/gDW per complex). We normalize by the\n",
    "    sum at each time point so it's a fraction (unitless).\n",
    "    \"\"\"\n",
    "    rows = []\n",
    "    times = result.get(\"time\", [])\n",
    "    complexes_list = result.get(\"complex\", [])\n",
    "    for t, cdict in zip(times, complexes_list):\n",
    "        cdict = cdict or {}\n",
    "        # ignore non-finite values\n",
    "        values = np.array(list(cdict.values()), dtype=float)\n",
    "        total = np.nansum(values)\n",
    "        if not np.isfinite(total) or total <= 0:\n",
    "            continue\n",
    "        for cid, conc in cdict.items():\n",
    "            conc = float(conc) if conc is not None else np.nan\n",
    "            if not np.isfinite(conc) or conc <= 0:\n",
    "                continue\n",
    "            rows.append({\n",
    "                \"time\": float(t),\n",
    "                \"complex_id\": cid,\n",
    "                \"fraction\": conc / total\n",
    "            })\n",
    "    return pd.DataFrame(rows)\n",
    "\n",
    "df_mass = fractions_from_result(result)\n",
    "\n",
    "if df_mass.empty:\n",
    "    print(\"No fraction data could be computed (df_mass is empty). \"\n",
    "          \"Check that result['complex'] contains nonzero concentrations.\")\n",
    "else:\n",
    "    # Top-N complexes by fraction at the final time\n",
    "    final_time = df_mass[\"time\"].max()\n",
    "    topN = 10\n",
    "    top_ids = (\n",
    "        df_mass[df_mass[\"time\"] == final_time]\n",
    "        .sort_values(\"fraction\", ascending=False)\n",
    "        .head(topN)[\"complex_id\"]\n",
    "        .tolist()\n",
    "    )\n",
    "\n",
    "    # Line plot of top-N\n",
    "    plt.figure(figsize=(10, 6))\n",
    "    for cid in top_ids:\n",
    "        sub = df_mass[df_mass[\"complex_id\"] == cid].sort_values(\"time\")\n",
    "        plt.plot(sub[\"time\"], sub[\"fraction\"], label=cid)\n",
    "    plt.xlabel(\"Time (h)\")\n",
    "    plt.ylabel(\"Relative fraction (unitless)\")\n",
    "    plt.title(f\"Top {topN} complexes by final relative abundance\")\n",
    "    plt.legend(bbox_to_anchor=(1.02, 1), loc=\"upper left\", fontsize=8)\n",
    "    plt.tight_layout()\n",
    "    plt.show()\n",
    "\n",
    "    # Stacked area (all complexes) — can be busy if there are many\n",
    "    pivot = df_mass.pivot_table(index=\"time\", columns=\"complex_id\",\n",
    "                                values=\"fraction\", fill_value=0.0)\n",
    "    pivot = pivot.sort_index()\n",
    "    ax = pivot.plot.area(figsize=(12, 6), legend=False)\n",
    "    ax.set_xlabel(\"Time (h)\")\n",
    "    ax.set_ylabel(\"Fraction of total proteome\")\n",
    "    ax.set_title(\"Proteome composition over time (relative)\")\n",
    "    plt.tight_layout()\n",
    "    plt.show()\n"
   ]
  },
  {
   "cell_type": "code",
   "execution_count": null,
   "metadata": {},
   "outputs": [],
   "source": [
    "result['biomass']\n"
   ]
  },
  {
   "cell_type": "code",
   "execution_count": null,
   "metadata": {},
   "outputs": [],
   "source": [
    "result['rxn_flux']\n"
   ]
  },
  {
   "cell_type": "markdown",
   "metadata": {},
   "source": [
    "# Convert solution's metabolite concentrations from mM to g/L"
   ]
  },
  {
   "cell_type": "code",
   "execution_count": null,
   "metadata": {},
   "outputs": [],
   "source": [
    "from dynamicme.dynamic import ParamOpt\n",
    "\n",
    "popt = ParamOpt(me, sim_params, growth_rxn=growth_rxn.id)\n",
    "sol = popt.compute_conc_profile(result)"
   ]
  },
  {
   "cell_type": "code",
   "execution_count": null,
   "metadata": {},
   "outputs": [],
   "source": [
    "df_mw = pd.DataFrame([{'id':m.id,'mass':m.mass if hasattr(m,'mass') else m.formula_weight,'name':m.name} for m in me.metabolites])\n",
    "\n",
    "sol_gL = sol.copy()\n",
    "variables = c0_dict.keys()\n",
    "\n",
    "for col in sol.columns:\n",
    "    if col in variables:\n",
    "        c_mM = sol[col]\n",
    "        mw = df_mw[ df_mw.id==col].mass.values[0]\n",
    "        c_gL = c_mM * mw / 1000.\n",
    "        sol_gL[col] = c_gL\n",
    "        \n",
    "df_ex = pd.DataFrame(result['ex_flux'])"
   ]
  },
  {
   "cell_type": "markdown",
   "metadata": {},
   "source": [
    "# Plot metabolite concentration profiles"
   ]
  },
  {
   "cell_type": "code",
   "execution_count": null,
   "metadata": {},
   "outputs": [],
   "source": [
    "import seaborn as sns\n",
    "import matplotlib.pyplot as plt\n",
    "%matplotlib inline\n",
    "\n",
    "dsplot = sol_gL[[c for c in sol_gL.columns if c != 'biomass' and 'EX_' not in c]].melt(id_vars='time')\n",
    "\n",
    "dsplot.variable.unique()\n",
    "\n",
    "palette = ['#660066','#00FF00','#000000','#FF00FF','#0000FF','#FF0000']\n",
    "sns.set_palette(palette)\n",
    "g = sns.FacetGrid(dsplot, hue='variable', size=5)\n",
    "g.map(plt.plot, 'time','value')\n",
    "g.add_legend()"
   ]
  },
  {
   "cell_type": "code",
   "execution_count": null,
   "metadata": {},
   "outputs": [],
   "source": [
    "sol_gL"
   ]
  },
  {
   "cell_type": "raw",
   "metadata": {},
   "source": [
    "sol_gL.to_csv('dynamicme_example_output.csv')"
   ]
  },
  {
   "cell_type": "code",
   "execution_count": null,
   "metadata": {},
   "outputs": [],
   "source": []
  }
 ],
 "metadata": {
  "kernelspec": {
   "display_name": "Python 3",
   "language": "python",
   "name": "python3"
  },
  "language_info": {
   "codemirror_mode": {
    "name": "ipython",
    "version": 3
   },
   "file_extension": ".py",
   "mimetype": "text/x-python",
   "name": "python",
   "nbconvert_exporter": "python",
   "pygments_lexer": "ipython3",
   "version": "3.6.1"
  }
 },
 "nbformat": 4,
 "nbformat_minor": 2
}
