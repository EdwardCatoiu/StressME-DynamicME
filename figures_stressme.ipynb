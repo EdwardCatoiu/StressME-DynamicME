{
 "cells": [
  {
   "cell_type": "code",
   "execution_count": 1,
   "metadata": {},
   "outputs": [],
   "source": [
    "import pickle\n",
    "from utils import figure_utils\n",
    "import copy\n",
    "import pandas as pd"
   ]
  },
  {
   "cell_type": "markdown",
   "metadata": {},
   "source": [
    "### Load the ME model (updated) & solution, and COGs"
   ]
  },
  {
   "cell_type": "code",
   "execution_count": 2,
   "metadata": {},
   "outputs": [
    {
     "name": "stderr",
     "output_type": "stream",
     "text": [
      "/usr/lib/python3.6/site-packages/cobra-0.5.11-py3.6-linux-x86_64.egg/cobra/solvers/__init__.py:63: UserWarning: No LP solvers found\n",
      "  warn(\"No LP solvers found\")\n",
      "/usr/lib/python3.6/site-packages/cobra-0.5.11-py3.6-linux-x86_64.egg/cobra/io/sbml3.py:24: UserWarning: Install lxml for faster SBML I/O\n",
      "  warn(\"Install lxml for faster SBML I/O\")\n",
      "/usr/lib/python3.6/site-packages/cobra-0.5.11-py3.6-linux-x86_64.egg/cobra/io/__init__.py:12: UserWarning: cobra.io.sbml requires libsbml\n",
      "  warn(\"cobra.io.sbml requires libsbml\")\n"
     ]
    },
    {
     "name": "stdout",
     "output_type": "stream",
     "text": [
      "iJL1678b-ME\n",
      "0.70556640625 optimal\n"
     ]
    },
    {
     "data": {
      "text/html": [
       "<div>\n",
       "<style scoped>\n",
       "    .dataframe tbody tr th:only-of-type {\n",
       "        vertical-align: middle;\n",
       "    }\n",
       "\n",
       "    .dataframe tbody tr th {\n",
       "        vertical-align: top;\n",
       "    }\n",
       "\n",
       "    .dataframe thead th {\n",
       "        text-align: right;\n",
       "    }\n",
       "</style>\n",
       "<table border=\"1\" class=\"dataframe\">\n",
       "  <thead>\n",
       "    <tr style=\"text-align: right;\">\n",
       "      <th></th>\n",
       "      <th>GI</th>\n",
       "      <th>gene</th>\n",
       "      <th>COG ID</th>\n",
       "      <th>COG category</th>\n",
       "      <th>COG name</th>\n",
       "      <th>COG category primary</th>\n",
       "      <th>COG class</th>\n",
       "      <th>COG description</th>\n",
       "    </tr>\n",
       "    <tr>\n",
       "      <th>locus</th>\n",
       "      <th></th>\n",
       "      <th></th>\n",
       "      <th></th>\n",
       "      <th></th>\n",
       "      <th></th>\n",
       "      <th></th>\n",
       "      <th></th>\n",
       "      <th></th>\n",
       "    </tr>\n",
       "  </thead>\n",
       "  <tbody>\n",
       "    <tr>\n",
       "      <th>b0002</th>\n",
       "      <td>16127996</td>\n",
       "      <td>thrA</td>\n",
       "      <td>COG0460</td>\n",
       "      <td>E</td>\n",
       "      <td>Homoserine dehydrogenase</td>\n",
       "      <td>E</td>\n",
       "      <td>METABOLISM</td>\n",
       "      <td>Amino acid transport and metabolism</td>\n",
       "    </tr>\n",
       "    <tr>\n",
       "      <th>b3940</th>\n",
       "      <td>16131778</td>\n",
       "      <td>metL</td>\n",
       "      <td>COG0460</td>\n",
       "      <td>E</td>\n",
       "      <td>Homoserine dehydrogenase</td>\n",
       "      <td>E</td>\n",
       "      <td>METABOLISM</td>\n",
       "      <td>Amino acid transport and metabolism</td>\n",
       "    </tr>\n",
       "    <tr>\n",
       "      <th>b0002</th>\n",
       "      <td>16127996</td>\n",
       "      <td>thrA</td>\n",
       "      <td>COG0527</td>\n",
       "      <td>E</td>\n",
       "      <td>Aspartokinase</td>\n",
       "      <td>E</td>\n",
       "      <td>METABOLISM</td>\n",
       "      <td>Amino acid transport and metabolism</td>\n",
       "    </tr>\n",
       "    <tr>\n",
       "      <th>b3940</th>\n",
       "      <td>16131778</td>\n",
       "      <td>metL</td>\n",
       "      <td>COG0527</td>\n",
       "      <td>E</td>\n",
       "      <td>Aspartokinase</td>\n",
       "      <td>E</td>\n",
       "      <td>METABOLISM</td>\n",
       "      <td>Amino acid transport and metabolism</td>\n",
       "    </tr>\n",
       "    <tr>\n",
       "      <th>b4024</th>\n",
       "      <td>16131850</td>\n",
       "      <td>lysC</td>\n",
       "      <td>COG0527</td>\n",
       "      <td>E</td>\n",
       "      <td>Aspartokinase</td>\n",
       "      <td>E</td>\n",
       "      <td>METABOLISM</td>\n",
       "      <td>Amino acid transport and metabolism</td>\n",
       "    </tr>\n",
       "  </tbody>\n",
       "</table>\n",
       "</div>"
      ],
      "text/plain": [
       "             GI  gene   COG ID COG category                  COG name  \\\n",
       "locus                                                                   \n",
       "b0002  16127996  thrA  COG0460            E  Homoserine dehydrogenase   \n",
       "b3940  16131778  metL  COG0460            E  Homoserine dehydrogenase   \n",
       "b0002  16127996  thrA  COG0527            E             Aspartokinase   \n",
       "b3940  16131778  metL  COG0527            E             Aspartokinase   \n",
       "b4024  16131850  lysC  COG0527            E             Aspartokinase   \n",
       "\n",
       "      COG category primary   COG class                      COG description  \n",
       "locus                                                                        \n",
       "b0002                    E  METABOLISM  Amino acid transport and metabolism  \n",
       "b3940                    E  METABOLISM  Amino acid transport and metabolism  \n",
       "b0002                    E  METABOLISM  Amino acid transport and metabolism  \n",
       "b3940                    E  METABOLISM  Amino acid transport and metabolism  \n",
       "b4024                    E  METABOLISM  Amino acid transport and metabolism  "
      ]
     },
     "execution_count": 2,
     "metadata": {},
     "output_type": "execute_result"
    }
   ],
   "source": [
    "with open(\"run_stressme_results/demo/StressME_heatevolved_T_37_pH_7.0_ROS_1.0X_sol.pickle\", \"rb\") as f:\n",
    "    solution = pickle.load(f)\n",
    "\n",
    "with open(\"run_stressme_results/demo/demo_updated_model.pickle\", \"rb\") as f:\n",
    "    me = pickle.load(f)\n",
    "\n",
    "# Now you can use the 'me' model object\n",
    "print(me)\n",
    "\n",
    "# Now you can use the 'solution' object\n",
    "print(solution.x_dict['biomass_dilution'], solution.status)\n",
    "\n",
    "\n",
    "#COG dataframe\n",
    "cogs_file = \"/source/ecolime/ecolime/characterization/data/cogs_ecoli_mg1655.csv\"\n",
    "cog_df = pd.read_csv(cogs_file,encoding=\"ISO-8859-1\")\n",
    "cog_df = cog_df.set_index('locus')\n",
    "cog_df.head()"
   ]
  },
  {
   "cell_type": "markdown",
   "metadata": {},
   "source": [
    "### Identify translation fluxes"
   ]
  },
  {
   "cell_type": "code",
   "execution_count": 17,
   "metadata": {},
   "outputs": [],
   "source": [
    "# Get all translation reactions with flux > 0\n",
    "translation_fluxes = {rxn: [float(flux)] for rxn, flux in solution.x_dict.items() if \"translation_\" in rxn and flux > 0}\n",
    "results = {'rxn_flux' :translation_fluxes, 'time' :[0], \"biomass\" : [1]}"
   ]
  },
  {
   "cell_type": "code",
   "execution_count": 18,
   "metadata": {},
   "outputs": [
    {
     "name": "stdout",
     "output_type": "stream",
     "text": [
      "These genes do not completely match up to the coloring scheme:\n"
     ]
    },
    {
     "data": {
      "text/html": [
       "<div>\n",
       "<style scoped>\n",
       "    .dataframe tbody tr th:only-of-type {\n",
       "        vertical-align: middle;\n",
       "    }\n",
       "\n",
       "    .dataframe tbody tr th {\n",
       "        vertical-align: top;\n",
       "    }\n",
       "\n",
       "    .dataframe thead th {\n",
       "        text-align: right;\n",
       "    }\n",
       "</style>\n",
       "<table border=\"1\" class=\"dataframe\">\n",
       "  <thead>\n",
       "    <tr style=\"text-align: right;\">\n",
       "      <th></th>\n",
       "      <th>COG category</th>\n",
       "      <th>gene</th>\n",
       "      <th>locus</th>\n",
       "      <th>weight</th>\n",
       "    </tr>\n",
       "  </thead>\n",
       "  <tbody>\n",
       "    <tr>\n",
       "      <th>236</th>\n",
       "      <td>CP</td>\n",
       "      <td>nuoL</td>\n",
       "      <td>b2278</td>\n",
       "      <td>0.004066</td>\n",
       "    </tr>\n",
       "    <tr>\n",
       "      <th>76</th>\n",
       "      <td>HI</td>\n",
       "      <td>dxs</td>\n",
       "      <td>b0420</td>\n",
       "      <td>0.002405</td>\n",
       "    </tr>\n",
       "    <tr>\n",
       "      <th>482</th>\n",
       "      <td>EG</td>\n",
       "      <td>ilvD</td>\n",
       "      <td>b3771</td>\n",
       "      <td>0.001866</td>\n",
       "    </tr>\n",
       "    <tr>\n",
       "      <th>481</th>\n",
       "      <td>EH</td>\n",
       "      <td>ilvE</td>\n",
       "      <td>b3770</td>\n",
       "      <td>0.000989</td>\n",
       "    </tr>\n",
       "    <tr>\n",
       "      <th>496</th>\n",
       "      <td>HC</td>\n",
       "      <td>fre</td>\n",
       "      <td>b3844</td>\n",
       "      <td>0.000419</td>\n",
       "    </tr>\n",
       "  </tbody>\n",
       "</table>\n",
       "</div>"
      ],
      "text/plain": [
       "    COG category  gene  locus    weight\n",
       "236           CP  nuoL  b2278  0.004066\n",
       "76            HI   dxs  b0420  0.002405\n",
       "482           EG  ilvD  b3771  0.001866\n",
       "481           EH  ilvE  b3770  0.000989\n",
       "496           HC   fre  b3844  0.000419"
      ]
     },
     "execution_count": 18,
     "metadata": {},
     "output_type": "execute_result"
    }
   ],
   "source": [
    "# Export weights at t = 6.0 h by absolute rate (mmol L^-1 hr^-1)\n",
    "df_weights = figure_utils.export_translation_weights(\n",
    "    me,\n",
    "    results,\n",
    "    cog_df=cog_df,\n",
    "    t_query=0, # select which time point you want\n",
    "    value=\"mass\", #(g L^-1 hr^-1) or \"flux\" (mmol gDW^-1 hr^-1), \"rate\" (mmol L^-1 hr^-1)\n",
    "    out_file=None #path to save the file compatible with Proteomaps \n",
    "\n",
    ")\n",
    "df_weights[\"COG category\"] = df_weights[\"COG category\"].fillna(\"Unknown\")\n",
    "\n",
    "print (\"These genes do not completely match up to the coloring scheme:\")\n",
    "df_weights[df_weights.get('COG category').isin(figure_utils.cog_colors.keys()) == False].head()"
   ]
  },
  {
   "cell_type": "code",
   "execution_count": 16,
   "metadata": {},
   "outputs": [
    {
     "name": "stdout",
     "output_type": "stream",
     "text": [
      "✅ Wrote: run_stressme_results/demo/voronoi_acetate.html\n"
     ]
    },
    {
     "data": {
      "text/html": [
       "<iframe src=\"run_stressme_results/demo/voronoi_acetate.html\" width=\"1100\" height=\"800\"></iframe>"
      ],
      "text/plain": [
       "<IPython.core.display.HTML object>"
      ]
     },
     "metadata": {},
     "output_type": "display_data"
    }
   ],
   "source": [
    "hier = figure_utils.build_hierarchy_for_d3_from_df(\n",
    "    df_weights, \n",
    "    cog_colors=figure_utils.cog_colors,\n",
    "    label_col=\"gene\" # or 'locus' or modify df_weights with peronsalized column (i.e. gene product, uniprot id)\n",
    ")\n",
    "figure_utils.write_d3_voronoi_html(hier, out_html=\"run_stressme_results/demo/voronoi_acetate.html\", cog_colors = figure_utils.cog_colors)\n"
   ]
  },
  {
   "cell_type": "code",
   "execution_count": null,
   "metadata": {},
   "outputs": [],
   "source": []
  }
 ],
 "metadata": {
  "kernelspec": {
   "display_name": "Python 3",
   "language": "python",
   "name": "python3"
  },
  "language_info": {
   "codemirror_mode": {
    "name": "ipython",
    "version": 3
   },
   "file_extension": ".py",
   "mimetype": "text/x-python",
   "name": "python",
   "nbconvert_exporter": "python",
   "pygments_lexer": "ipython3",
   "version": "3.6.1"
  }
 },
 "nbformat": 4,
 "nbformat_minor": 5
}
